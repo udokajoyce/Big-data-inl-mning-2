{
  "cells": [
    {
      "cell_type": "markdown",
      "source": [
        "# assignment 2\n",
        "Start by uploading the datafile to Databricks. Use later the search path to the file to the file in the next cell."
      ],
      "metadata": {
        "application/vnd.databricks.v1+cell": {
          "showTitle": false,
          "cellMetadata": {},
          "nuid": "9eac3bbc-95e1-4dce-a722-bb66d56b1bcf",
          "inputWidgets": {},
          "title": ""
        },
        "id": "pTrXJC4kgnDT"
      }
    },
    {
      "cell_type": "code",
      "source": [
        "pip install pyspark"
      ],
      "metadata": {
        "id": "uQKd_wYKCiAO"
      },
      "execution_count": null,
      "outputs": []
    },
    {
      "cell_type": "code",
      "source": [
        "from pyspark.sql import SparkSession\n",
        "spark = SparkSession.builder.appName(\"KDDCupAnalysis\").getOrCreate()\n",
        "data = spark.read.csv(\"kddcup.data_10_percent_corrected\", inferSchema=True, header=True)\n",
        "data.createOrReplaceTempView('data')\n"
      ],
      "metadata": {
        "application/vnd.databricks.v1+cell": {
          "showTitle": false,
          "cellMetadata": {},
          "nuid": "55c99b0c-beb5-4d0e-b4a7-da395b64d72a",
          "inputWidgets": {},
          "title": ""
        },
        "id": "fxf7_wYbgnDX"
      },
      "outputs": [],
      "execution_count": 68
    },
    {
      "cell_type": "code",
      "source": [
        "# Count the number of rows in the data\n",
        "data.count()"
      ],
      "metadata": {
        "application/vnd.databricks.v1+cell": {
          "showTitle": false,
          "cellMetadata": {},
          "nuid": "9ff54d89-bdba-43da-a17a-edff011511f3",
          "inputWidgets": {},
          "title": ""
        },
        "colab": {
          "base_uri": "https://localhost:8080/"
        },
        "id": "V7pfEkdSgnDZ",
        "outputId": "b8ef4885-70d6-4a9c-f36a-751dec37937f"
      },
      "outputs": [
        {
          "output_type": "execute_result",
          "data": {
            "text/plain": [
              "494021"
            ]
          },
          "metadata": {},
          "execution_count": 69
        }
      ],
      "execution_count": 69
    },
    {
      "cell_type": "code",
      "source": [
        "# Visa de första 20 raderna\n",
        "data.show(20)"
      ],
      "metadata": {
        "application/vnd.databricks.v1+cell": {
          "showTitle": false,
          "cellMetadata": {},
          "nuid": "0888317c-d5c5-474a-9e5f-531be4e80f10",
          "inputWidgets": {},
          "title": ""
        },
        "colab": {
          "base_uri": "https://localhost:8080/"
        },
        "id": "uyJBua5cgnDa",
        "outputId": "cfcbe35f-3465-4f0f-9c15-0510bc1d673e"
      },
      "outputs": [
        {
          "output_type": "stream",
          "name": "stdout",
          "text": [
            "+--------+-------------+-------+----+---------+---------+----+--------------+------+---+-----------------+---------+----------------+-----------+-------------+---------+-------------------+-----------+-----------------+------------------+-------------+--------------+-----+---------+-----------+---------------+-----------+---------------+-------------+-------------+------------------+--------------+------------------+----------------------+----------------------+---------------------------+---------------------------+--------------------+------------------------+--------------------+------------------------+-------+\n",
            "|duration|protocol_type|service|flag|src_bytes|dst_bytes|land|wrong_fragment|urgent|hot|num_failed_logins|logged_in|lnum_compromised|lroot_shell|lsu_attempted|lnum_root|lnum_file_creations|lnum_shells|lnum_access_files|lnum_outbound_cmds|is_host_login|is_guest_login|count|srv_count|serror_rate|srv_serror_rate|rerror_rate|srv_rerror_rate|same_srv_rate|diff_srv_rate|srv_diff_host_rate|dst_host_count|dst_host_srv_count|dst_host_same_srv_rate|dst_host_diff_srv_rate|dst_host_same_src_port_rate|dst_host_srv_diff_host_rate|dst_host_serror_rate|dst_host_srv_serror_rate|dst_host_rerror_rate|dst_host_srv_rerror_rate|  label|\n",
            "+--------+-------------+-------+----+---------+---------+----+--------------+------+---+-----------------+---------+----------------+-----------+-------------+---------+-------------------+-----------+-----------------+------------------+-------------+--------------+-----+---------+-----------+---------------+-----------+---------------+-------------+-------------+------------------+--------------+------------------+----------------------+----------------------+---------------------------+---------------------------+--------------------+------------------------+--------------------+------------------------+-------+\n",
            "|       0|          tcp|   http|  SF|      181|     5450|   0|             0|     0|  0|                0|        1|               0|          0|            0|        0|                  0|          0|                0|                 0|            0|             0|    8|        8|        0.0|            0.0|        0.0|            0.0|          1.0|          0.0|               0.0|             9|                 9|                   1.0|                   0.0|                       0.11|                        0.0|                 0.0|                     0.0|                 0.0|                     0.0|normal.|\n",
            "|       0|          tcp|   http|  SF|      239|      486|   0|             0|     0|  0|                0|        1|               0|          0|            0|        0|                  0|          0|                0|                 0|            0|             0|    8|        8|        0.0|            0.0|        0.0|            0.0|          1.0|          0.0|               0.0|            19|                19|                   1.0|                   0.0|                       0.05|                        0.0|                 0.0|                     0.0|                 0.0|                     0.0|normal.|\n",
            "|       0|          tcp|   http|  SF|      235|     1337|   0|             0|     0|  0|                0|        1|               0|          0|            0|        0|                  0|          0|                0|                 0|            0|             0|    8|        8|        0.0|            0.0|        0.0|            0.0|          1.0|          0.0|               0.0|            29|                29|                   1.0|                   0.0|                       0.03|                        0.0|                 0.0|                     0.0|                 0.0|                     0.0|normal.|\n",
            "|       0|          tcp|   http|  SF|      219|     1337|   0|             0|     0|  0|                0|        1|               0|          0|            0|        0|                  0|          0|                0|                 0|            0|             0|    6|        6|        0.0|            0.0|        0.0|            0.0|          1.0|          0.0|               0.0|            39|                39|                   1.0|                   0.0|                       0.03|                        0.0|                 0.0|                     0.0|                 0.0|                     0.0|normal.|\n",
            "|       0|          tcp|   http|  SF|      217|     2032|   0|             0|     0|  0|                0|        1|               0|          0|            0|        0|                  0|          0|                0|                 0|            0|             0|    6|        6|        0.0|            0.0|        0.0|            0.0|          1.0|          0.0|               0.0|            49|                49|                   1.0|                   0.0|                       0.02|                        0.0|                 0.0|                     0.0|                 0.0|                     0.0|normal.|\n",
            "|       0|          tcp|   http|  SF|      217|     2032|   0|             0|     0|  0|                0|        1|               0|          0|            0|        0|                  0|          0|                0|                 0|            0|             0|    6|        6|        0.0|            0.0|        0.0|            0.0|          1.0|          0.0|               0.0|            59|                59|                   1.0|                   0.0|                       0.02|                        0.0|                 0.0|                     0.0|                 0.0|                     0.0|normal.|\n",
            "|       0|          tcp|   http|  SF|      212|     1940|   0|             0|     0|  0|                0|        1|               0|          0|            0|        0|                  0|          0|                0|                 0|            0|             0|    1|        2|        0.0|            0.0|        0.0|            0.0|          1.0|          0.0|               1.0|             1|                69|                   1.0|                   0.0|                        1.0|                       0.04|                 0.0|                     0.0|                 0.0|                     0.0|normal.|\n",
            "|       0|          tcp|   http|  SF|      159|     4087|   0|             0|     0|  0|                0|        1|               0|          0|            0|        0|                  0|          0|                0|                 0|            0|             0|    5|        5|        0.0|            0.0|        0.0|            0.0|          1.0|          0.0|               0.0|            11|                79|                   1.0|                   0.0|                       0.09|                       0.04|                 0.0|                     0.0|                 0.0|                     0.0|normal.|\n",
            "|       0|          tcp|   http|  SF|      210|      151|   0|             0|     0|  0|                0|        1|               0|          0|            0|        0|                  0|          0|                0|                 0|            0|             0|    8|        8|        0.0|            0.0|        0.0|            0.0|          1.0|          0.0|               0.0|             8|                89|                   1.0|                   0.0|                       0.12|                       0.04|                 0.0|                     0.0|                 0.0|                     0.0|normal.|\n",
            "|       0|          tcp|   http|  SF|      212|      786|   0|             0|     0|  1|                0|        1|               0|          0|            0|        0|                  0|          0|                0|                 0|            0|             0|    8|        8|        0.0|            0.0|        0.0|            0.0|          1.0|          0.0|               0.0|             8|                99|                   1.0|                   0.0|                       0.12|                       0.05|                 0.0|                     0.0|                 0.0|                     0.0|normal.|\n",
            "|       0|          tcp|   http|  SF|      210|      624|   0|             0|     0|  0|                0|        1|               0|          0|            0|        0|                  0|          0|                0|                 0|            0|             0|   18|       18|        0.0|            0.0|        0.0|            0.0|          1.0|          0.0|               0.0|            18|               109|                   1.0|                   0.0|                       0.06|                       0.05|                 0.0|                     0.0|                 0.0|                     0.0|normal.|\n",
            "|       0|          tcp|   http|  SF|      177|     1985|   0|             0|     0|  0|                0|        1|               0|          0|            0|        0|                  0|          0|                0|                 0|            0|             0|    1|        1|        0.0|            0.0|        0.0|            0.0|          1.0|          0.0|               0.0|            28|               119|                   1.0|                   0.0|                       0.04|                       0.04|                 0.0|                     0.0|                 0.0|                     0.0|normal.|\n",
            "|       0|          tcp|   http|  SF|      222|      773|   0|             0|     0|  0|                0|        1|               0|          0|            0|        0|                  0|          0|                0|                 0|            0|             0|   11|       11|        0.0|            0.0|        0.0|            0.0|          1.0|          0.0|               0.0|            38|               129|                   1.0|                   0.0|                       0.03|                       0.04|                 0.0|                     0.0|                 0.0|                     0.0|normal.|\n",
            "|       0|          tcp|   http|  SF|      256|     1169|   0|             0|     0|  0|                0|        1|               0|          0|            0|        0|                  0|          0|                0|                 0|            0|             0|    4|        4|        0.0|            0.0|        0.0|            0.0|          1.0|          0.0|               0.0|             4|               139|                   1.0|                   0.0|                       0.25|                       0.04|                 0.0|                     0.0|                 0.0|                     0.0|normal.|\n",
            "|       0|          tcp|   http|  SF|      241|      259|   0|             0|     0|  0|                0|        1|               0|          0|            0|        0|                  0|          0|                0|                 0|            0|             0|    1|        1|        0.0|            0.0|        0.0|            0.0|          1.0|          0.0|               0.0|            14|               149|                   1.0|                   0.0|                       0.07|                       0.04|                 0.0|                     0.0|                 0.0|                     0.0|normal.|\n",
            "|       0|          tcp|   http|  SF|      260|     1837|   0|             0|     0|  0|                0|        1|               0|          0|            0|        0|                  0|          0|                0|                 0|            0|             0|   11|       11|        0.0|            0.0|        0.0|            0.0|          1.0|          0.0|               0.0|            24|               159|                   1.0|                   0.0|                       0.04|                       0.04|                 0.0|                     0.0|                 0.0|                     0.0|normal.|\n",
            "|       0|          tcp|   http|  SF|      241|      261|   0|             0|     0|  0|                0|        1|               0|          0|            0|        0|                  0|          0|                0|                 0|            0|             0|    2|        2|        0.0|            0.0|        0.0|            0.0|          1.0|          0.0|               0.0|            34|               169|                   1.0|                   0.0|                       0.03|                       0.04|                 0.0|                     0.0|                 0.0|                     0.0|normal.|\n",
            "|       0|          tcp|   http|  SF|      257|      818|   0|             0|     0|  0|                0|        1|               0|          0|            0|        0|                  0|          0|                0|                 0|            0|             0|   12|       12|        0.0|            0.0|        0.0|            0.0|          1.0|          0.0|               0.0|            44|               179|                   1.0|                   0.0|                       0.02|                       0.03|                 0.0|                     0.0|                 0.0|                     0.0|normal.|\n",
            "|       0|          tcp|   http|  SF|      233|      255|   0|             0|     0|  0|                0|        1|               0|          0|            0|        0|                  0|          0|                0|                 0|            0|             0|    2|        8|        0.0|            0.0|        0.0|            0.0|          1.0|          0.0|              0.25|            54|               189|                   1.0|                   0.0|                       0.02|                       0.03|                 0.0|                     0.0|                 0.0|                     0.0|normal.|\n",
            "|       0|          tcp|   http|  SF|      233|      504|   0|             0|     0|  0|                0|        1|               0|          0|            0|        0|                  0|          0|                0|                 0|            0|             0|    7|        7|        0.0|            0.0|        0.0|            0.0|          1.0|          0.0|               0.0|            64|               199|                   1.0|                   0.0|                       0.02|                       0.03|                 0.0|                     0.0|                 0.0|                     0.0|normal.|\n",
            "+--------+-------------+-------+----+---------+---------+----+--------------+------+---+-----------------+---------+----------------+-----------+-------------+---------+-------------------+-----------+-----------------+------------------+-------------+--------------+-----+---------+-----------+---------------+-----------+---------------+-------------+-------------+------------------+--------------+------------------+----------------------+----------------------+---------------------------+---------------------------+--------------------+------------------------+--------------------+------------------------+-------+\n",
            "only showing top 20 rows\n",
            "\n"
          ]
        }
      ],
      "execution_count": 70
    },
    {
      "cell_type": "code",
      "source": [
        "# Här är ett exempel på en sökning i datan\n",
        "interactions = spark.sql(\"\"\"\n",
        "SELECT duration, dst_bytes FROM data WHERE protocol_type = 'tcp' AND duration > 1000 AND dst_bytes = 0\n",
        "\"\"\")\n",
        "interactions.show()"
      ],
      "metadata": {
        "application/vnd.databricks.v1+cell": {
          "showTitle": false,
          "cellMetadata": {},
          "nuid": "83bc4f1e-aeea-41a9-8a73-ac1671f058cd",
          "inputWidgets": {},
          "title": ""
        },
        "colab": {
          "base_uri": "https://localhost:8080/"
        },
        "id": "p5X4HjRhgnDb",
        "outputId": "8c5ad64c-babb-4646-b736-aeca88798d9e"
      },
      "outputs": [
        {
          "output_type": "stream",
          "name": "stdout",
          "text": [
            "+--------+---------+\n",
            "|duration|dst_bytes|\n",
            "+--------+---------+\n",
            "|    5057|        0|\n",
            "|    5059|        0|\n",
            "|    5051|        0|\n",
            "|    5056|        0|\n",
            "|    5051|        0|\n",
            "|    5039|        0|\n",
            "|    5062|        0|\n",
            "|    5041|        0|\n",
            "|    5056|        0|\n",
            "|    5064|        0|\n",
            "|    5043|        0|\n",
            "|    5061|        0|\n",
            "|    5049|        0|\n",
            "|    5061|        0|\n",
            "|    5048|        0|\n",
            "|    5047|        0|\n",
            "|    5044|        0|\n",
            "|    5063|        0|\n",
            "|    5068|        0|\n",
            "|    5062|        0|\n",
            "+--------+---------+\n",
            "only showing top 20 rows\n",
            "\n"
          ]
        }
      ],
      "execution_count": 71
    },
    {
      "cell_type": "code",
      "source": [
        "# Vi kan använda printSchema() för att visa vilka kolumner det finns\n",
        "data.printSchema()"
      ],
      "metadata": {
        "application/vnd.databricks.v1+cell": {
          "showTitle": false,
          "cellMetadata": {},
          "nuid": "c22f9d1e-b4fc-483d-aa73-4dd770502c35",
          "inputWidgets": {},
          "title": ""
        },
        "colab": {
          "base_uri": "https://localhost:8080/"
        },
        "id": "CN9vFXIqgnDc",
        "outputId": "bb967d36-b81f-4c6b-f489-b6e732eba9a5"
      },
      "outputs": [
        {
          "output_type": "stream",
          "name": "stdout",
          "text": [
            "root\n",
            " |-- duration: integer (nullable = true)\n",
            " |-- protocol_type: string (nullable = true)\n",
            " |-- service: string (nullable = true)\n",
            " |-- flag: string (nullable = true)\n",
            " |-- src_bytes: integer (nullable = true)\n",
            " |-- dst_bytes: integer (nullable = true)\n",
            " |-- land: integer (nullable = true)\n",
            " |-- wrong_fragment: integer (nullable = true)\n",
            " |-- urgent: integer (nullable = true)\n",
            " |-- hot: integer (nullable = true)\n",
            " |-- num_failed_logins: integer (nullable = true)\n",
            " |-- logged_in: integer (nullable = true)\n",
            " |-- lnum_compromised: integer (nullable = true)\n",
            " |-- lroot_shell: integer (nullable = true)\n",
            " |-- lsu_attempted: integer (nullable = true)\n",
            " |-- lnum_root: integer (nullable = true)\n",
            " |-- lnum_file_creations: integer (nullable = true)\n",
            " |-- lnum_shells: integer (nullable = true)\n",
            " |-- lnum_access_files: integer (nullable = true)\n",
            " |-- lnum_outbound_cmds: integer (nullable = true)\n",
            " |-- is_host_login: integer (nullable = true)\n",
            " |-- is_guest_login: integer (nullable = true)\n",
            " |-- count: integer (nullable = true)\n",
            " |-- srv_count: integer (nullable = true)\n",
            " |-- serror_rate: double (nullable = true)\n",
            " |-- srv_serror_rate: double (nullable = true)\n",
            " |-- rerror_rate: double (nullable = true)\n",
            " |-- srv_rerror_rate: double (nullable = true)\n",
            " |-- same_srv_rate: double (nullable = true)\n",
            " |-- diff_srv_rate: double (nullable = true)\n",
            " |-- srv_diff_host_rate: double (nullable = true)\n",
            " |-- dst_host_count: integer (nullable = true)\n",
            " |-- dst_host_srv_count: integer (nullable = true)\n",
            " |-- dst_host_same_srv_rate: double (nullable = true)\n",
            " |-- dst_host_diff_srv_rate: double (nullable = true)\n",
            " |-- dst_host_same_src_port_rate: double (nullable = true)\n",
            " |-- dst_host_srv_diff_host_rate: double (nullable = true)\n",
            " |-- dst_host_serror_rate: double (nullable = true)\n",
            " |-- dst_host_srv_serror_rate: double (nullable = true)\n",
            " |-- dst_host_rerror_rate: double (nullable = true)\n",
            " |-- dst_host_srv_rerror_rate: double (nullable = true)\n",
            " |-- label: string (nullable = true)\n",
            "\n"
          ]
        }
      ],
      "execution_count": 72
    },
    {
      "cell_type": "code",
      "source": [
        "# Exempel på gruppering av data (Spark-syntax, ej SQL-syntax)\n",
        "data.select(\"protocol_type\", \"duration\", \"dst_bytes\").groupBy(\"protocol_type\").count().show()"
      ],
      "metadata": {
        "application/vnd.databricks.v1+cell": {
          "showTitle": false,
          "cellMetadata": {},
          "nuid": "832894d3-dfce-45eb-a86d-cc3572a0154c",
          "inputWidgets": {},
          "title": ""
        },
        "colab": {
          "base_uri": "https://localhost:8080/"
        },
        "id": "v-4tGrYlgnDc",
        "outputId": "357b7175-1fa7-41ea-c146-053ff3f4e297"
      },
      "outputs": [
        {
          "output_type": "stream",
          "name": "stdout",
          "text": [
            "+-------------+------+\n",
            "|protocol_type| count|\n",
            "+-------------+------+\n",
            "|          tcp|190065|\n",
            "|          udp| 20354|\n",
            "|         icmp|283602|\n",
            "+-------------+------+\n",
            "\n"
          ]
        }
      ],
      "execution_count": 73
    },
    {
      "cell_type": "code",
      "source": [
        "data.select(\"protocol_type\", \"duration\", \"dst_bytes\").filter(data.duration>1000).filter(data.dst_bytes==0).groupBy(\"protocol_type\").count().show()"
      ],
      "metadata": {
        "application/vnd.databricks.v1+cell": {
          "showTitle": false,
          "cellMetadata": {},
          "nuid": "f0cbb4aa-1317-4931-8a89-a846fbcd9d44",
          "inputWidgets": {},
          "title": ""
        },
        "colab": {
          "base_uri": "https://localhost:8080/"
        },
        "id": "Zmirb18QgnDd",
        "outputId": "d20e38ac-1c75-4301-e06c-4469bca07237"
      },
      "outputs": [
        {
          "output_type": "stream",
          "name": "stdout",
          "text": [
            "+-------------+-----+\n",
            "|protocol_type|count|\n",
            "+-------------+-----+\n",
            "|          tcp|  139|\n",
            "+-------------+-----+\n",
            "\n"
          ]
        }
      ],
      "execution_count": 74
    },
    {
      "cell_type": "markdown",
      "source": [
        "## Uppgifter\n",
        "Skriv koden för era lösningar i celler här nedanför"
      ],
      "metadata": {
        "application/vnd.databricks.v1+cell": {
          "showTitle": false,
          "cellMetadata": {},
          "nuid": "f3ca447c-b3f5-4f5d-b80a-29f066e852ff",
          "inputWidgets": {},
          "title": ""
        },
        "id": "gv9Us7vHgnDe"
      }
    },
    {
      "cell_type": "markdown",
      "source": [
        "**a.Which protocols are represented in the data?**"
      ],
      "metadata": {
        "id": "SaxdXTSq68WX"
      }
    },
    {
      "cell_type": "code",
      "source": [
        "protocols = data.select(\"protocol_type\").distinct()\n",
        "protocols.show()\n"
      ],
      "metadata": {
        "colab": {
          "base_uri": "https://localhost:8080/"
        },
        "id": "hf23n1TM1v8a",
        "outputId": "967273db-9281-4ddb-8d81-6cb57555ed15"
      },
      "execution_count": 75,
      "outputs": [
        {
          "output_type": "stream",
          "name": "stdout",
          "text": [
            "+-------------+\n",
            "|protocol_type|\n",
            "+-------------+\n",
            "|          tcp|\n",
            "|          udp|\n",
            "|         icmp|\n",
            "+-------------+\n",
            "\n"
          ]
        }
      ]
    },
    {
      "cell_type": "markdown",
      "source": [
        "**b.How many services are using the protocol..**"
      ],
      "metadata": {
        "id": "8xrnw9l415xR"
      }
    },
    {
      "cell_type": "code",
      "source": [
        "# Count services by protocol (assuming column 3 is 'service')\n",
        "service_count = data.groupBy(\"protocol_type\", \"service\").count()\n",
        "service_count.show()\n"
      ],
      "metadata": {
        "colab": {
          "base_uri": "https://localhost:8080/"
        },
        "id": "4A7BApPk1wMB",
        "outputId": "13af9205-a876-4196-fd38-c918f759d541"
      },
      "execution_count": 76,
      "outputs": [
        {
          "output_type": "stream",
          "name": "stdout",
          "text": [
            "+-------------+----------+-----+\n",
            "|protocol_type|   service|count|\n",
            "+-------------+----------+-----+\n",
            "|         icmp|     eco_i| 1642|\n",
            "|          tcp|       mtp|  107|\n",
            "|          tcp|  csnet_ns|  126|\n",
            "|          tcp|   pm_dump|    1|\n",
            "|          tcp|    finger|  670|\n",
            "|          udp|  domain_u| 5863|\n",
            "|          tcp|       IRC|   43|\n",
            "|          tcp|      time|  157|\n",
            "|          tcp|      link|  102|\n",
            "|          tcp|    kshell|   98|\n",
            "|          tcp| uucp_path|  106|\n",
            "|          tcp|netbios_ns|  102|\n",
            "|          tcp|    gopher|  117|\n",
            "|          tcp|     whois|  110|\n",
            "|          tcp|       ctf|   97|\n",
            "|          tcp|   netstat|   95|\n",
            "|          tcp|      name|   98|\n",
            "|          tcp|      auth|  328|\n",
            "|          tcp|remote_job|  120|\n",
            "|          tcp|   sql_net|  110|\n",
            "+-------------+----------+-----+\n",
            "only showing top 20 rows\n",
            "\n"
          ]
        }
      ]
    },
    {
      "cell_type": "markdown",
      "source": [
        "**How many packets are classified as part of an attack, and using the protocol…**"
      ],
      "metadata": {
        "id": "CRYWG9V72BTH"
      }
    },
    {
      "cell_type": "code",
      "source": [
        "attack_packets = data.filter(data[\"label\"] != \"normal.\")\n",
        "attack_packets.groupBy(\"protocol_type\").count().show()\n"
      ],
      "metadata": {
        "colab": {
          "base_uri": "https://localhost:8080/"
        },
        "id": "_ouc4VQi1-Gz",
        "outputId": "7cfb1a4c-3b2c-4268-9880-10e5cb8e0138"
      },
      "execution_count": 77,
      "outputs": [
        {
          "output_type": "stream",
          "name": "stdout",
          "text": [
            "+-------------+------+\n",
            "|protocol_type| count|\n",
            "+-------------+------+\n",
            "|          tcp|113252|\n",
            "|          udp|  1177|\n",
            "|         icmp|282314|\n",
            "+-------------+------+\n",
            "\n"
          ]
        }
      ]
    },
    {
      "cell_type": "markdown",
      "source": [
        "**What percentage of the total number of packages (rounded to whole percentages) has a label that is not \"normal\"?**"
      ],
      "metadata": {
        "id": "r7YM7iTH2FmJ"
      }
    },
    {
      "cell_type": "code",
      "source": [
        "total_packets = data.count()\n",
        "print(\"Total data packets: \",total_packets)\n",
        "\n",
        "total_attack_packets = attack_packets.count()\n",
        "print(\"Total attacked data packets: \",total_attack_packets)\n",
        "\n",
        "attack_percentage = (total_attack_packets / total_packets) * 100\n",
        "print(f\"Percentage of attack packets: {round(attack_percentage)}%\")\n"
      ],
      "metadata": {
        "colab": {
          "base_uri": "https://localhost:8080/"
        },
        "id": "AWZkaoZb1-J0",
        "outputId": "c1c5a0f1-1047-4b97-9544-1cd0bdfaaeed"
      },
      "execution_count": 78,
      "outputs": [
        {
          "output_type": "stream",
          "name": "stdout",
          "text": [
            "Total data packets:  494021\n",
            "Total attacked data packets:  396743\n",
            "Percentage of attack packets: 80%\n"
          ]
        }
      ]
    },
    {
      "cell_type": "markdown",
      "source": [
        "**How many ICMP packets are classified as part of an attack, but are not a so-called \"smurf\" attack?**"
      ],
      "metadata": {
        "id": "Odi-GFQF2IbS"
      }
    },
    {
      "cell_type": "code",
      "source": [
        "icmp_attack_packets = attack_packets.filter(attack_packets[\"protocol_type\"] == \"icmp\")\n",
        "\n",
        "# Exclude 'smurf' attacks\n",
        "non_smurf_icmp_attacks = icmp_attack_packets.filter(icmp_attack_packets[\"label\"] != \"smurf\")\n",
        "non_smurf_icmp_attacks_count = non_smurf_icmp_attacks.count()\n",
        "print(f\"Non-smurf ICMP attack packets: {non_smurf_icmp_attacks_count}\")\n"
      ],
      "metadata": {
        "colab": {
          "base_uri": "https://localhost:8080/"
        },
        "id": "fua_WQn51-My",
        "outputId": "5122156d-0ad5-49b9-ad9f-91a999970391"
      },
      "execution_count": 79,
      "outputs": [
        {
          "output_type": "stream",
          "name": "stdout",
          "text": [
            "Non-smurf ICMP attack packets: 282314\n"
          ]
        }
      ]
    }
  ],
  "metadata": {
    "application/vnd.databricks.v1+notebook": {
      "notebookName": "Assignment",
      "dashboards": [],
      "notebookMetadata": {
        "pythonIndentUnit": 4
      },
      "language": "python",
      "widgets": {},
      "notebookOrigID": 723185487684604
    },
    "colab": {
      "provenance": []
    },
    "language_info": {
      "name": "python"
    },
    "kernelspec": {
      "name": "python3",
      "display_name": "Python 3"
    }
  },
  "nbformat": 4,
  "nbformat_minor": 0
}